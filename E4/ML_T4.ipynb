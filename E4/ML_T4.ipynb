{
  "nbformat": 4,
  "nbformat_minor": 0,
  "metadata": {
    "colab": {
      "name": "ML_T4.ipynb",
      "provenance": [],
      "collapsed_sections": [],
      "authorship_tag": "ABX9TyMR4EIUbx+tqELTmlP+mZF9"
    },
    "kernelspec": {
      "name": "python3",
      "display_name": "Python 3"
    }
  },
  "cells": [
    {
      "cell_type": "code",
      "metadata": {
        "id": "WiBrAb8BrART",
        "colab_type": "code",
        "colab": {}
      },
      "source": [
        "import numpy as np\n",
        "import matplotlib.pyplot as plt\n",
        "import pandas as pd\n",
        "\n",
        "df_train = pd.read_csv('/content/sample_data/mnist_train_small.csv')\n",
        "df_test = pd.read_csv('/content/sample_data/mnist_test.csv')\n",
        "\n",
        "df_train = df_train.head(1000)\n",
        "x_tr = df_train.to_numpy()\n",
        "y_train = x_tr[:, 0]\n",
        "x_train = x_tr[:, 1:]\n",
        "\n",
        "df_test = df_test.head(200)\n",
        "x_te = df_test.to_numpy()\n",
        "y_test = x_te[:, 0]\n",
        "x_test = x_te[:, 1:]\n",
        "\n",
        "#feature scaling\n",
        "from sklearn.preprocessing import StandardScaler\n",
        "scaler = StandardScaler()\n",
        "x_train = scaler.fit_transform(x_train)\n",
        "x_test = scaler.fit_transform(x_test)\n",
        "\n",
        "#PCA\n",
        "from sklearn.decomposition import PCA\n",
        "pca = PCA(n_components=2, random_state=0)\n",
        "train_pca = pca.fit_transform(x_train, y_train)\n",
        "test_pca = pca.fit_transform(x_test, y_test)"
      ],
      "execution_count": 11,
      "outputs": []
    },
    {
      "cell_type": "code",
      "metadata": {
        "id": "5yufxnG8KGzI",
        "colab_type": "code",
        "colab": {}
      },
      "source": [
        "def get_acc(clusters_pr, y_train):\n",
        "  n_train = len(set(y_train))\n",
        "  currect_pr = 0\n",
        "\n",
        "  for clu in set(clusters_pr):\n",
        "    xs_in_group = [0 for _ in range(n_train+1)]\n",
        "    for i in range(len(clusters_pr)):\n",
        "      if clusters_pr[i]==clu:\n",
        "        xs_in_group[y_train[i]] += 1\n",
        "    predicted_group = np.argmax(xs_in_group)  \n",
        "    for j in range(len(clusters_pr)):\n",
        "      if clusters_pr[j]==clu and clusters_pr[j]==predicted_group:\n",
        "        currect_pr+=1\n",
        "\n",
        "  return currect_pr/len(clusters_pr)\n",
        "\n",
        "#print(get_acc([1,2,2,2,1,1,1,3], [1,1,2,2,1,1,1,3]))"
      ],
      "execution_count": 39,
      "outputs": []
    },
    {
      "cell_type": "code",
      "metadata": {
        "id": "-JQCu8O3bsFd",
        "colab_type": "code",
        "colab": {
          "base_uri": "https://localhost:8080/",
          "height": 34
        },
        "outputId": "fcc039fc-6328-4b5c-b313-a36524a36ca3"
      },
      "source": [
        "#PCA -> DBSCAN\n",
        "from sklearn.cluster import DBSCAN\n",
        "eps_counter = np.arange(0.6, 4, 0.05)\n",
        "ms_counter = [3,4,5,6,7,8,9,10,11]\n",
        "max_acc = 0\n",
        "max_ms = 0\n",
        "max_eps = 0\n",
        "for ep in eps_counter:\n",
        "  for ms in ms_counter:\n",
        "    db = DBSCAN(eps=ep, min_samples=ms)\n",
        "    db = db.fit(train_pca)\n",
        "    labels_db = db.labels_\n",
        "    clusters_db = db.fit_predict(test_pca)\n",
        "    acc = get_acc(clusters_db, y_test)\n",
        "    n_clusters_ = len(set(clusters_db)) - (1 if -1 in clusters_db else 0)\n",
        "    n_noise_ = list(clusters_db).count(-1)\n",
        "    if acc > max_acc and n_clusters_ >= 10 and n_noise_ < len(y_test)/3:\n",
        "      max_acc = acc\n",
        "      max_ms = db.min_samples\n",
        "      max_eps = db.eps\n",
        "      max_noise = n_noise_\n",
        "      max_clusters = n_clusters_\n",
        "    #print (\"min sample: {}\\teps:{}\\tcluster: {}\\tnoise points:{}\\tacc:{}\" .format(ms, ep, n_clusters_ ,n_noise_, acc))\n",
        "print(\"max acc: {}\\teps: {}\\tmin samples:{}\\tcluster: {}\\tnoise points:{}\" .format(max_acc, max_eps, max_ms, max_clusters ,max_noise))"
      ],
      "execution_count": 35,
      "outputs": [
        {
          "output_type": "stream",
          "text": [
            "max acc: 0.255\teps: 1.1500000000000004\tmin samples:3\tcluster: 11\tnoise points:47\n"
          ],
          "name": "stdout"
        }
      ]
    },
    {
      "cell_type": "code",
      "metadata": {
        "id": "Nh-7nBAWMeLO",
        "colab_type": "code",
        "colab": {
          "base_uri": "https://localhost:8080/",
          "height": 168
        },
        "outputId": "4cc8da5b-e878-4398-ff64-c0cedd88cc53"
      },
      "source": [
        "db = DBSCAN(eps=0.95, min_samples=3)\n",
        "print(db.fit_predict(test_pca))"
      ],
      "execution_count": 36,
      "outputs": [
        {
          "output_type": "stream",
          "text": [
            "[-1  0 -1 -1  0  1 -1 -1  1 -1 10  2 -1  0 -1 -1  2 -1  2  3  4 -1  5  2\n",
            " -1  6 -1 10  0  4  3  4 -1  5 -1  2  0 -1  0  0  7  2  4  8  4  3  5 -1\n",
            " 11  4 -1  5  4  9  4 -1  0 -1  3 -1 10  7  4  1  3 -1 11  4 -1  2 -1 -1\n",
            " -1  0 -1 -1  5  3  1  6  4 12  6  1 -1  3  4 -1  0  4  5  3 -1  0 -1  3\n",
            "  4 -1 -1  4 -1  1 -1 -1 -1 -1  8  2 -1  4  0  8 -1  3  3  7 11  7  1 -1\n",
            "  5  7  4  2  7  9  5  1  5  4 -1 12  1  5  0 -1 -1 -1  1  4 -1  5  0  7\n",
            "  0  5  9 -1  4 -1 -1  5  4  0  4 -1 -1  4  3  2 -1 -1 -1  5 12  1  5  0\n",
            "  2  2  5 -1  4  4  3  0 -1  0  4  0  4  3 -1  4  2 -1 -1 -1  3  0  3 -1\n",
            "  2 -1  3  0  4  2 -1 -1]\n"
          ],
          "name": "stdout"
        }
      ]
    },
    {
      "cell_type": "code",
      "metadata": {
        "id": "R4_cvqTTboLu",
        "colab_type": "code",
        "colab": {
          "base_uri": "https://localhost:8080/",
          "height": 269
        },
        "outputId": "c2f1bc42-5545-4284-bda2-3cf39b3435c8"
      },
      "source": [
        "#PCA -> k-MEANS\n",
        "from sklearn.cluster import KMeans\n",
        "km = KMeans(n_clusters=10, random_state=0)\n",
        "km = km.fit(train_pca)\n",
        "labels_km = km.labels_\n",
        "clusters_km = km.predict(test_pca)\n",
        "n_noise_ = list(clusters_km).count(-1)\n",
        "acc = get_acc(clusters_km, y_test)\n",
        "print(clusters_km)\n",
        "print(y_test)\n",
        "print('Estimated number of clusters in pca-KM: %d' %10)\n",
        "print('Estimated number of noise points in KM: %d' % n_noise_)\n",
        "print('Accuracy of KM: %d' %acc)"
      ],
      "execution_count": 37,
      "outputs": [
        {
          "output_type": "stream",
          "text": [
            "[6 4 0 7 4 5 5 0 5 2 0 5 0 4 6 7 5 6 5 4 9 9 9 5 8 7 7 0 4 1 4 1 0 9 2 7 4\n",
            " 6 4 4 5 5 1 1 1 4 9 7 7 1 6 9 9 8 9 7 4 7 4 7 0 5 1 7 4 9 7 1 8 5 8 6 4 4\n",
            " 5 1 5 4 5 5 9 6 7 9 3 4 9 0 1 1 9 4 1 4 7 4 1 9 7 9 0 9 3 7 7 2 1 5 5 1 4\n",
            " 1 5 4 4 5 7 5 9 0 9 5 9 5 5 8 9 9 9 9 6 6 5 9 1 9 1 0 5 1 7 9 4 5 4 9 8 6\n",
            " 1 7 7 9 1 4 9 9 9 6 4 5 6 0 3 9 6 5 9 4 5 5 9 6 1 1 4 4 9 4 1 4 1 4 8 1 5\n",
            " 6 9 2 4 4 4 2 5 0 4 1 1 5 6 2]\n",
            "[2 1 0 4 1 4 9 5 9 0 6 9 0 1 5 9 7 3 4 9 6 6 5 4 0 7 4 0 1 3 1 3 4 7 2 7 1\n",
            " 2 1 1 7 4 2 3 5 1 2 4 4 6 3 5 5 6 0 4 1 9 5 7 8 9 3 7 4 6 4 3 0 7 0 2 9 1\n",
            " 7 3 2 9 7 7 6 2 7 8 4 7 3 6 1 3 6 9 3 1 4 1 7 6 9 6 0 5 4 9 9 2 1 9 4 8 7\n",
            " 3 9 7 4 4 4 9 2 5 4 7 6 7 9 0 5 8 5 6 6 5 7 8 1 0 1 6 4 6 7 3 1 7 1 8 2 0\n",
            " 2 9 9 5 5 1 5 6 0 3 4 4 6 5 4 6 5 4 5 1 4 4 7 2 3 2 7 1 8 1 8 1 8 5 0 8 9\n",
            " 2 5 0 1 1 1 0 9 0 3 1 6 4 2 3]\n",
            "Estimated number of clusters in pca-KM: 10\n",
            "Estimated number of noise points in KM: 0\n",
            "Accuracy of KM: 0\n"
          ],
          "name": "stdout"
        }
      ]
    },
    {
      "cell_type": "code",
      "metadata": {
        "id": "ptcgw7ddzUaL",
        "colab_type": "code",
        "colab": {
          "base_uri": "https://localhost:8080/",
          "height": 279
        },
        "outputId": "51a7b187-2896-49d4-c20d-809e7110707e"
      },
      "source": [
        "#elbow method\n",
        "clusters = []\n",
        "scores = []\n",
        "for i in range(1, 15):\n",
        "  km = KMeans(n_clusters=i, random_state=0)\n",
        "  km = km.fit(train_pca)\n",
        "  labels_km = km.labels_\n",
        "  clusters_km = km.predict(test_pca)\n",
        "  n_noise_ = list(clusters_km).count(-1)\n",
        "  scores.append(km.score(test_pca))\n",
        "  clusters.append(i)\n",
        "plt.plot(clusters, scores)\n",
        "plt.ylabel(\"scores\")\n",
        "plt.xlabel(\"clusters\")\n",
        "plt.show()"
      ],
      "execution_count": 38,
      "outputs": [
        {
          "output_type": "display_data",
          "data": {
            "image/png": "[encoded data removed]",
            "text/plain": [
              "<Figure size 432x288 with 1 Axes>"
            ]
          },
          "metadata": {
            "tags": [],
            "needs_background": "light"
          }
        }
      ]
    }
  ]
}