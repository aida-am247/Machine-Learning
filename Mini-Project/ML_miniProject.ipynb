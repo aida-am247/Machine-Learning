{
  "nbformat": 4,
  "nbformat_minor": 0,
  "metadata": {
    "colab": {
      "name": "ML_miniProject.ipynb",
      "provenance": [],
      "collapsed_sections": [],
      "authorship_tag": "ABX9TyOFVQnC6PZc8d6ADqp9bbvW",
      "include_colab_link": true
    },
    "kernelspec": {
      "name": "python3",
      "display_name": "Python 3"
    }
  },
  "cells": [
    {
      "cell_type": "markdown",
      "metadata": {
        "id": "view-in-github",
        "colab_type": "text"
      },
      "source": [
        "<a href=\"https://colab.research.google.com/github/aida-am247/Machine-Learning/blob/master/Mini-Project/ML_miniProject.ipynb\" target=\"_parent\"><img src=\"https://colab.research.google.com/assets/colab-badge.svg\" alt=\"Open In Colab\"/></a>"
      ]
    },
    {
      "cell_type": "code",
      "metadata": {
        "id": "tgsvw0NHKtph",
        "colab_type": "code",
        "colab": {}
      },
      "source": [
        "import numpy as np\n",
        "import matplotlib.pyplot as plt\n",
        "import pandas as pd\n",
        "\n",
        "df_train = pd.read_csv('/content/sample_data/mnist_train_small.csv')\n",
        "df_test = pd.read_csv('/content/sample_data/mnist_test.csv')\n",
        "\n",
        "df_train = df_train.head(4800)\n",
        "x_tr = df_train.to_numpy()\n",
        "y_train = x_tr[:, 0]\n",
        "x_train = x_tr[:, 1:]\n",
        "\n",
        "df_valid = df_train.head(1200)\n",
        "x_va = df_valid.to_numpy()\n",
        "y_valid = x_tr[:, 0]\n",
        "x_valid = x_tr[:, 1:]\n",
        "\n",
        "df_test = df_test.head(1200)\n",
        "x_te = df_test.to_numpy()\n",
        "y_test = x_te[:, 0]\n",
        "x_test = x_te[:, 1:]\n",
        "\n",
        "#feature scaling\n",
        "from sklearn.preprocessing import StandardScaler\n",
        "scaler = StandardScaler()\n",
        "x_train = scaler.fit_transform(x_train)\n",
        "x_test = scaler.fit_transform(x_test)"
      ],
      "execution_count": 95,
      "outputs": []
    },
    {
      "cell_type": "markdown",
      "metadata": {
        "id": "5vfWJ1B2QKJU",
        "colab_type": "text"
      },
      "source": [
        "#Linear Regression"
      ]
    },
    {
      "cell_type": "code",
      "metadata": {
        "id": "6R6Mjr7RQJc4",
        "colab_type": "code",
        "colab": {
          "base_uri": "https://localhost:8080/",
          "height": 50
        },
        "outputId": "1b653a22-5bce-4b09-9203-e00a7845c40e"
      },
      "source": [
        "from sklearn.linear_model import LinearRegression\n",
        "clf = LinearRegression(fit_intercept=True, normalize=True)\n",
        "clf.fit(x_train, y_train)\n",
        "print(clf.score(x_valid, y_valid))\n",
        "print(clf.score(x_test, y_test))"
      ],
      "execution_count": 96,
      "outputs": [
        {
          "output_type": "stream",
          "text": [
            "-2.3913502835549837e+24\n",
            "-5.742117855700082e+24\n"
          ],
          "name": "stdout"
        }
      ]
    },
    {
      "cell_type": "markdown",
      "metadata": {
        "id": "UTkPfNjeL6nX",
        "colab_type": "text"
      },
      "source": [
        "#Logistic Regression"
      ]
    },
    {
      "cell_type": "code",
      "metadata": {
        "id": "tFvs0bj4LWTO",
        "colab_type": "code",
        "colab": {
          "base_uri": "https://localhost:8080/",
          "height": 185
        },
        "outputId": "6bf93a2f-cc97-484e-ba43-421f344759ce"
      },
      "source": [
        "from sklearn.linear_model import LogisticRegression\n",
        "clf = LogisticRegression(class_weight='balanced')\n",
        "clf.fit(x_train, y_train)\n",
        "print(clf.score(x_valid, y_valid))\n",
        "print(clf.score(x_test, y_test))"
      ],
      "execution_count": 97,
      "outputs": [
        {
          "output_type": "stream",
          "text": [
            "0.7954166666666667\n",
            "0.8725\n"
          ],
          "name": "stdout"
        },
        {
          "output_type": "stream",
          "text": [
            "/usr/local/lib/python3.6/dist-packages/sklearn/linear_model/_logistic.py:940: ConvergenceWarning: lbfgs failed to converge (status=1):\n",
            "STOP: TOTAL NO. of ITERATIONS REACHED LIMIT.\n",
            "\n",
            "Increase the number of iterations (max_iter) or scale the data as shown in:\n",
            "    https://scikit-learn.org/stable/modules/preprocessing.html\n",
            "Please also refer to the documentation for alternative solver options:\n",
            "    https://scikit-learn.org/stable/modules/linear_model.html#logistic-regression\n",
            "  extra_warning_msg=_LOGISTIC_SOLVER_CONVERGENCE_MSG)\n"
          ],
          "name": "stderr"
        }
      ]
    },
    {
      "cell_type": "markdown",
      "metadata": {
        "id": "hdTHHF__QIg8",
        "colab_type": "text"
      },
      "source": [
        "#KNN"
      ]
    },
    {
      "cell_type": "code",
      "metadata": {
        "id": "eaTeRjxQRyLA",
        "colab_type": "code",
        "colab": {
          "base_uri": "https://localhost:8080/",
          "height": 235
        },
        "outputId": "cd007137-9e5f-4b4d-92a6-61db9d54bf6b"
      },
      "source": [
        "from sklearn.neighbors import KNeighborsClassifier\n",
        "for i in range(2,15):\n",
        "  clf = KNeighborsClassifier(n_neighbors=i)\n",
        "  clf.fit(x_train, y_train)\n",
        "  print(\"n neighbors = {}\\tvalidation score:{}\\ttest score:{}\".format(i,clf.score(x_valid, y_valid), clf.score(x_test, y_test)))"
      ],
      "execution_count": 98,
      "outputs": [
        {
          "output_type": "stream",
          "text": [
            "n neighbors = 2\tvalidation score:0.8391666666666666\ttest score:0.8541666666666666\n",
            "n neighbors = 3\tvalidation score:0.859375\ttest score:0.8625\n",
            "n neighbors = 4\tvalidation score:0.8445833333333334\ttest score:0.8575\n",
            "n neighbors = 5\tvalidation score:0.8522916666666667\ttest score:0.87\n",
            "n neighbors = 6\tvalidation score:0.8514583333333333\ttest score:0.8741666666666666\n",
            "n neighbors = 7\tvalidation score:0.8508333333333333\ttest score:0.8725\n",
            "n neighbors = 8\tvalidation score:0.8420833333333333\ttest score:0.8641666666666666\n",
            "n neighbors = 9\tvalidation score:0.8414583333333333\ttest score:0.8666666666666667\n",
            "n neighbors = 10\tvalidation score:0.8404166666666667\ttest score:0.8641666666666666\n",
            "n neighbors = 11\tvalidation score:0.84\ttest score:0.8608333333333333\n",
            "n neighbors = 12\tvalidation score:0.84\ttest score:0.8616666666666667\n",
            "n neighbors = 13\tvalidation score:0.8354166666666667\ttest score:0.8583333333333333\n",
            "n neighbors = 14\tvalidation score:0.8347916666666667\ttest score:0.8591666666666666\n"
          ],
          "name": "stdout"
        }
      ]
    },
    {
      "cell_type": "markdown",
      "metadata": {
        "id": "D7yi5XtJT6yV",
        "colab_type": "text"
      },
      "source": [
        "#SVM"
      ]
    },
    {
      "cell_type": "code",
      "metadata": {
        "id": "LpwSLy8aT_Bt",
        "colab_type": "code",
        "colab": {
          "base_uri": "https://localhost:8080/",
          "height": 50
        },
        "outputId": "2b38198f-2131-4f9d-bafa-5071c528c9d6"
      },
      "source": [
        "from sklearn.svm import SVC\n",
        "clf = SVC(C=0.5, gamma='auto')\n",
        "clf.fit(x_train, y_train)\n",
        "print(clf.score(x_valid, y_valid))\n",
        "print(clf.score(x_test, y_test))"
      ],
      "execution_count": 100,
      "outputs": [
        {
          "output_type": "stream",
          "text": [
            "0.10145833333333333\n",
            "0.8933333333333333\n"
          ],
          "name": "stdout"
        }
      ]
    },
    {
      "cell_type": "markdown",
      "metadata": {
        "id": "QFp3CrCJk_xU",
        "colab_type": "text"
      },
      "source": [
        "#Decision Tree"
      ]
    },
    {
      "cell_type": "code",
      "metadata": {
        "id": "N-pQZdtllDoe",
        "colab_type": "code",
        "colab": {
          "base_uri": "https://localhost:8080/",
          "height": 34
        },
        "outputId": "00ba326d-08a9-4153-91b9-b85cff201b06"
      },
      "source": [
        "from sklearn.tree import DecisionTreeClassifier\n",
        "max_acc = 0\n",
        "best_ms = 2\n",
        "for i in range(2, 100):\n",
        "  clf = DecisionTreeClassifier(min_samples_split=i, criterion='entropy')\n",
        "  clf.fit(x_train, y_train)\n",
        "  test_score = clf.score(x_test, y_test)\n",
        "  valid_score = clf.score(x_valid, y_valid)\n",
        "  if test_score>max_acc:\n",
        "    max_acc = test_score\n",
        "    best_ms = i\n",
        "clf = DecisionTreeClassifier(min_samples_split=best_ms, criterion='entropy')\n",
        "clf.fit(x_train, y_train)\n",
        "test_score = clf.score(x_test, y_test)\n",
        "valid_score = clf.score(x_valid, y_valid)\n",
        "print(\"min samples: {}\\tvalidation acc: {}\\ttest acc: {}\".format(best_ms,valid_score, test_score))"
      ],
      "execution_count": 101,
      "outputs": [
        {
          "output_type": "stream",
          "text": [
            "min samples: 4\tvalidation acc: 0.1525\ttest acc: 0.26666666666666666\n"
          ],
          "name": "stdout"
        }
      ]
    },
    {
      "cell_type": "markdown",
      "metadata": {
        "id": "I_2Xp2EdEFcM",
        "colab_type": "text"
      },
      "source": [
        "#Random Forest"
      ]
    },
    {
      "cell_type": "code",
      "metadata": {
        "id": "3vOoThlyEIt7",
        "colab_type": "code",
        "colab": {
          "base_uri": "https://localhost:8080/",
          "height": 50
        },
        "outputId": "27074271-8ced-4e51-9595-6d1ce6412d08"
      },
      "source": [
        "from sklearn.ensemble import RandomForestClassifier\n",
        "clf = RandomForestClassifier(max_depth=38)\n",
        "clf.fit(x_train, y_train)\n",
        "print(clf.score(x_valid, y_valid))\n",
        "print(clf.score(x_test, y_test))"
      ],
      "execution_count": 102,
      "outputs": [
        {
          "output_type": "stream",
          "text": [
            "0.26729166666666665\n",
            "0.6208333333333333\n"
          ],
          "name": "stdout"
        }
      ]
    },
    {
      "cell_type": "markdown",
      "metadata": {
        "id": "GmpS98Nzu0X5",
        "colab_type": "text"
      },
      "source": [
        "#Neural Network"
      ]
    },
    {
      "cell_type": "code",
      "metadata": {
        "id": "RRVLhIzxu3mn",
        "colab_type": "code",
        "colab": {
          "base_uri": "https://localhost:8080/",
          "height": 50
        },
        "outputId": "54616872-b35a-4fa6-e724-08662c558b03"
      },
      "source": [
        "from sklearn.neural_network import MLPClassifier\n",
        "clf = MLPClassifier()\n",
        "clf.fit(x_train, y_train)\n",
        "print(clf.score(x_valid, y_valid))\n",
        "print(clf.score(x_test, y_test))"
      ],
      "execution_count": 103,
      "outputs": [
        {
          "output_type": "stream",
          "text": [
            "0.8472916666666667\n",
            "0.9175\n"
          ],
          "name": "stdout"
        }
      ]
    },
    {
      "cell_type": "code",
      "metadata": {
        "id": "t73lcCAdFAIN",
        "colab_type": "code",
        "colab": {}
      },
      "source": [
        "from sklearn.metrics import accuracy_score, recall_score, precision_score, confusion_matrix\n",
        "y_pre_valid = clf.predict(x_valid)\n",
        "y_pre_test = clf.predict(x_test)"
      ],
      "execution_count": 104,
      "outputs": []
    },
    {
      "cell_type": "code",
      "metadata": {
        "id": "3a2RCegwIZZ5",
        "colab_type": "code",
        "colab": {
          "base_uri": "https://localhost:8080/",
          "height": 454
        },
        "outputId": "9435ab4d-d4db-4d4b-c365-51720b893dc0"
      },
      "source": [
        "acc_valid = accuracy_score(y_valid, y_pre_valid)\n",
        "acc_test = accuracy_score(y_test, y_pre_test)\n",
        "recall_valid = recall_score(y_valid, y_pre_valid, average='weighted')\n",
        "recall_test = recall_score(y_test, y_pre_test, average='weighted')\n",
        "precision_valid = precision_score(y_valid, y_pre_valid, average='weighted')\n",
        "precision_test = precision_score(y_test, y_pre_test, average='weighted')\n",
        "confusion_valid = confusion_matrix(y_valid, y_pre_valid)\n",
        "confusion_test = confusion_matrix(y_test, y_pre_test)\n",
        "\n",
        "print(\"---validation data---\")\n",
        "print(\"accuracy:{}\\trecall:{}\\tprecision:{}\".format(acc_valid, recall_valid, precision_valid))\n",
        "print(\"confusion matrix:\")\n",
        "print(confusion_valid)\n",
        "print(\"---test data---\")\n",
        "print(\"accuracy:{}\\trecall:{}\\tprecision:{}\".format(acc_test, recall_test, precision_test))\n",
        "print(\"confusion matrix:\")\n",
        "print(confusion_test)"
      ],
      "execution_count": 105,
      "outputs": [
        {
          "output_type": "stream",
          "text": [
            "---validation data---\n",
            "accuracy:0.8472916666666667\trecall:0.8472916666666667\tprecision:0.9023613061481941\n",
            "confusion matrix:\n",
            "[[476   0   0   0   0   0   1   0   4   0]\n",
            " [  0 245   7  43   0   0   1   9 235   1]\n",
            " [  1   0 446   4   6   0   6   1  23   0]\n",
            " [  2   0   2 451   0   4   0   0  12   0]\n",
            " [  0   0   0   1 383   0   3   1  29  27]\n",
            " [  8   0   4   7   2 252   9   0 130   5]\n",
            " [  2   0   0   0   2   0 462   0   9   0]\n",
            " [  4   0   3  21  10   1   0 437  19  24]\n",
            " [  0   0   0   1   0   0   0   0 463   0]\n",
            " [  1   0   0   4   0   0   0   2  42 452]]\n",
            "---test data---\n",
            "accuracy:0.9175\trecall:0.9175\tprecision:0.9187308397262622\n",
            "confusion matrix:\n",
            "[[ 99   0   0   0   0   0   1   0   0   0]\n",
            " [  0 147   0   0   0   0   1   0   0   0]\n",
            " [  1   1 121   2   0   0   0   4   4   1]\n",
            " [  0   1   1 108   0   7   1   2   4   2]\n",
            " [  0   0   2   0 123   0   3   1   0   7]\n",
            " [  2   0   0   0   0  97   2   2   4   0]\n",
            " [  3   1   0   0   1   1  98   0   1   0]\n",
            " [  0   0   1   2   0   0   0 110   0  10]\n",
            " [  2   0   2   2   5   1   0   1  94   1]\n",
            " [  0   0   0   2   1   0   0   4   2 104]]\n"
          ],
          "name": "stdout"
        }
      ]
    }
  ]
}